{
 "cells": [
  {
   "cell_type": "markdown",
   "metadata": {},
   "source": [
    "## This jupyter-notebook contains the evaluation of synthetic data generated using CTAB-GAN for the Adult dataset "
   ]
  },
  {
   "cell_type": "code",
   "execution_count": 2,
   "metadata": {},
   "outputs": [],
   "source": [
    "# Importing the model\n",
    "from model.stacked_ctabgan3 import StackedCTABGAN3\n",
    "from model.eval.evaluation import get_utility_metrics,stat_sim,privacy_metrics\n",
    "# Importing standard libraries\n",
    "import numpy as np\n",
    "import pandas as pd\n",
    "import glob\n",
    "\n",
    "\n",
    "\n",
    "# Specifying the replication number \n",
    "num_exp = 1 \n",
    "# Specifying the name of the dataset used \n",
    "dataset = \"Adult\" \n",
    "# Specifying the path of the dataset used \n",
    "real_path = \"Real_Datasets/Adult.csv\" \n",
    "# Specifying the root directory for storing generated data\n",
    "fake_file_root = \"Fake_Datasets\" \n"
   ]
  },
  {
   "cell_type": "code",
   "execution_count": null,
   "metadata": {},
   "outputs": [],
   "source": [
    "\n",
    "# Initializing the synthesizer object and specifying input parameters\n",
    "# Notice: If you have continuous variable, you do not need to explicitly assign it. It will be treated like \n",
    "# that by default\n",
    "synthesizer =  StackedCTABGAN3(raw_csv_path = real_path,\n",
    "                 test_ratio = 0.20,  \n",
    "                 categorical_columns = ['workclass', 'education', 'marital-status', 'occupation',\n",
    "                                        'relationship', 'race', 'gender', 'native-country', 'income'], \n",
    "                 log_columns = [],\n",
    "                 mixed_columns= {'capital-loss':[0.0],'capital-gain':[0.0]}, \n",
    "                 integer_columns = ['age', 'fnlwgt','capital-gain', 'capital-loss','hours-per-week'],\n",
    "                 problem_type= {\"Classification\": 'income'},\n",
    "                 epochs = 30)\n",
    "\n",
    "# Fitting the synthesizer to the training dataset and generating synthetic data\n",
    "for i in range(num_exp):\n",
    "    synthesizer.fit()\n",
    "    syn1, syn2 = synthesizer.generate_samples()\n",
    "    syn1.to_csv(fake_file_root+\"/\"+dataset+\"/\"+ \"Stacked_\"+ dataset+\"_fake_{exp}_08_06_firstgen.csv\".format(exp=i), index= False)\n",
    "    syn2.to_csv(fake_file_root+\"/\"+dataset+\"/\"+ \"Stacked_\"+ dataset+\"_fake_{exp}_08_06_stacked.csv\".format(exp=i), index= False)\n"
   ]
  },
  {
   "cell_type": "code",
   "execution_count": null,
   "metadata": {},
   "outputs": [],
   "source": []
  },
  {
   "cell_type": "markdown",
   "metadata": {},
   "source": []
  },
  {
   "cell_type": "markdown",
   "metadata": {},
   "source": []
  },
  {
   "cell_type": "code",
   "execution_count": 10,
   "metadata": {},
   "outputs": [],
   "source": []
  },
  {
   "cell_type": "code",
   "execution_count": null,
   "metadata": {},
   "outputs": [],
   "source": []
  },
  {
   "cell_type": "markdown",
   "metadata": {},
   "source": [
    "#### ML Utility Evaluation"
   ]
  },
  {
   "cell_type": "code",
   "execution_count": 1,
   "metadata": {},
   "outputs": [
    {
     "ename": "NameError",
     "evalue": "name 'glob' is not defined",
     "output_type": "error",
     "traceback": [
      "\u001b[0;31m---------------------------------------------------------------------------\u001b[0m",
      "\u001b[0;31mNameError\u001b[0m                                 Traceback (most recent call last)",
      "\u001b[1;32m/Users/raufakdemir/Documents/Thesis/Stacked-CTAB-GAN/Stacked_Experiment_Script_Adult3.ipynb Cell 2'\u001b[0m in \u001b[0;36m<cell line: 1>\u001b[0;34m()\u001b[0m\n\u001b[0;32m----> <a href='vscode-notebook-cell:/Users/raufakdemir/Documents/Thesis/Stacked-CTAB-GAN/Stacked_Experiment_Script_Adult3.ipynb#ch0000001?line=0'>1</a>\u001b[0m fake_paths \u001b[39m=\u001b[39m glob\u001b[39m.\u001b[39mglob(\u001b[39m\"\u001b[39m\u001b[39mFullFakeRuns/*\u001b[39m\u001b[39m\"\u001b[39m)\n\u001b[1;32m      <a href='vscode-notebook-cell:/Users/raufakdemir/Documents/Thesis/Stacked-CTAB-GAN/Stacked_Experiment_Script_Adult3.ipynb#ch0000001?line=1'>2</a>\u001b[0m \u001b[39m# Specifying the list of classifiers to conduct ML utility evaluation\u001b[39;00m\n\u001b[1;32m      <a href='vscode-notebook-cell:/Users/raufakdemir/Documents/Thesis/Stacked-CTAB-GAN/Stacked_Experiment_Script_Adult3.ipynb#ch0000001?line=2'>3</a>\u001b[0m classifiers_list \u001b[39m=\u001b[39m [\u001b[39m\"\u001b[39m\u001b[39mlr\u001b[39m\u001b[39m\"\u001b[39m,\u001b[39m\"\u001b[39m\u001b[39mdt\u001b[39m\u001b[39m\"\u001b[39m,\u001b[39m\"\u001b[39m\u001b[39mrf\u001b[39m\u001b[39m\"\u001b[39m,\u001b[39m\"\u001b[39m\u001b[39mmlp\u001b[39m\u001b[39m\"\u001b[39m,\u001b[39m\"\u001b[39m\u001b[39msvm\u001b[39m\u001b[39m\"\u001b[39m]\n",
      "\u001b[0;31mNameError\u001b[0m: name 'glob' is not defined"
     ]
    }
   ],
   "source": [
    "fake_paths = glob.glob(\"FullFakeRuns/*\")\n",
    "# Specifying the list of classifiers to conduct ML utility evaluation\n",
    "classifiers_list = [\"lr\",\"dt\",\"rf\",\"mlp\",\"svm\"]\n",
    "for fake_path in fake_paths:\n",
    "    # Storing and presenting the results as a dataframe\n",
    "    result_mat = get_utility_metrics(real_path,fake_path,\"MinMax\",classifiers_list, test_ratio = 0.20)\n",
    "    result_df  = pd.DataFrame(result_mat,columns=[\"Acc\",\"AUC\",\"F1_Score\"])\n",
    "    result_df.index = classifiers_list\n",
    "    result_df.to_csv(fake_path+\"_output\")"
   ]
  },
  {
   "cell_type": "markdown",
   "metadata": {},
   "source": [
    "#### Statistical Similarity Evaluation"
   ]
  },
  {
   "cell_type": "code",
   "execution_count": 8,
   "metadata": {},
   "outputs": [
    {
     "data": {
      "text/html": [
       "<div>\n",
       "<style scoped>\n",
       "    .dataframe tbody tr th:only-of-type {\n",
       "        vertical-align: middle;\n",
       "    }\n",
       "\n",
       "    .dataframe tbody tr th {\n",
       "        vertical-align: top;\n",
       "    }\n",
       "\n",
       "    .dataframe thead th {\n",
       "        text-align: right;\n",
       "    }\n",
       "</style>\n",
       "<table border=\"1\" class=\"dataframe\">\n",
       "  <thead>\n",
       "    <tr style=\"text-align: right;\">\n",
       "      <th></th>\n",
       "      <th>Average WD (Continuous Columns</th>\n",
       "      <th>Average JSD (Categorical Columns)</th>\n",
       "      <th>Correlation Distance</th>\n",
       "    </tr>\n",
       "  </thead>\n",
       "  <tbody>\n",
       "    <tr>\n",
       "      <th>0</th>\n",
       "      <td>0.034557</td>\n",
       "      <td>0.142179</td>\n",
       "      <td>2.609594</td>\n",
       "    </tr>\n",
       "  </tbody>\n",
       "</table>\n",
       "</div>"
      ],
      "text/plain": [
       "   Average WD (Continuous Columns  Average JSD (Categorical Columns)  \\\n",
       "0                        0.034557                           0.142179   \n",
       "\n",
       "   Correlation Distance  \n",
       "0              2.609594  "
      ]
     },
     "execution_count": 8,
     "metadata": {},
     "output_type": "execute_result"
    }
   ],
   "source": [
    "# Specifying the categorical columns of the dataset used\n",
    "adult_categorical = ['workclass', 'education', 'marital-status', 'occupation', 'relationship', 'race', 'gender', 'native-country', 'income']\n",
    "\n",
    "# Storing and presenting the results as a dataframe\n",
    "stat_res_avg = []\n",
    "for fake_path in fake_paths:\n",
    "    stat_res = stat_sim(real_path,fake_path,adult_categorical)\n",
    "    stat_res_avg.append(stat_res)\n",
    "\n",
    "stat_columns = [\"Average WD (Continuous Columns\",\"Average JSD (Categorical Columns)\",\"Correlation Distance\"]\n",
    "stat_results = pd.DataFrame(np.array(stat_res_avg).mean(axis=0).reshape(1,3),columns=stat_columns)\n",
    "stat_results"
   ]
  },
  {
   "cell_type": "markdown",
   "metadata": {},
   "source": [
    "#### Nearest Neighbour Privacy Analysis"
   ]
  },
  {
   "cell_type": "code",
   "execution_count": 9,
   "metadata": {},
   "outputs": [
    {
     "data": {
      "text/html": [
       "<div>\n",
       "<style scoped>\n",
       "    .dataframe tbody tr th:only-of-type {\n",
       "        vertical-align: middle;\n",
       "    }\n",
       "\n",
       "    .dataframe tbody tr th {\n",
       "        vertical-align: top;\n",
       "    }\n",
       "\n",
       "    .dataframe thead th {\n",
       "        text-align: right;\n",
       "    }\n",
       "</style>\n",
       "<table border=\"1\" class=\"dataframe\">\n",
       "  <thead>\n",
       "    <tr style=\"text-align: right;\">\n",
       "      <th></th>\n",
       "      <th>DCR between Real and Fake (5th perc)</th>\n",
       "      <th>DCR within Real(5th perc)</th>\n",
       "      <th>DCR within Fake (5th perc)</th>\n",
       "      <th>NNDR between Real and Fake (5th perc)</th>\n",
       "      <th>NNDR within Real (5th perc)</th>\n",
       "      <th>NNDR within Fake (5th perc)</th>\n",
       "    </tr>\n",
       "  </thead>\n",
       "  <tbody>\n",
       "    <tr>\n",
       "      <th>0</th>\n",
       "      <td>1.290884</td>\n",
       "      <td>0.680375</td>\n",
       "      <td>1.249378</td>\n",
       "      <td>0.674498</td>\n",
       "      <td>0.545009</td>\n",
       "      <td>0.6731</td>\n",
       "    </tr>\n",
       "  </tbody>\n",
       "</table>\n",
       "</div>"
      ],
      "text/plain": [
       "   DCR between Real and Fake (5th perc)  DCR within Real(5th perc)  \\\n",
       "0                              1.290884                   0.680375   \n",
       "\n",
       "   DCR within Fake (5th perc)  NNDR between Real and Fake (5th perc)  \\\n",
       "0                    1.249378                               0.674498   \n",
       "\n",
       "   NNDR within Real (5th perc)  NNDR within Fake (5th perc)  \n",
       "0                     0.545009                       0.6731  "
      ]
     },
     "execution_count": 9,
     "metadata": {},
     "output_type": "execute_result"
    }
   ],
   "source": [
    "# Storing and presenting the results as a dataframe\n",
    "priv_res_avg = []\n",
    "for fake_path in fake_paths:\n",
    "    priv_res = privacy_metrics(real_path,fake_path)\n",
    "    priv_res_avg.append(priv_res)\n",
    "    \n",
    "privacy_columns = [\"DCR between Real and Fake (5th perc)\",\"DCR within Real(5th perc)\",\"DCR within Fake (5th perc)\",\"NNDR between Real and Fake (5th perc)\",\"NNDR within Real (5th perc)\",\"NNDR within Fake (5th perc)\"]\n",
    "privacy_results = pd.DataFrame(np.array(priv_res_avg).mean(axis=0).reshape(1,6),columns=privacy_columns)\n",
    "privacy_results"
   ]
  },
  {
   "cell_type": "code",
   "execution_count": 10,
   "metadata": {},
   "outputs": [
    {
     "ename": "NameError",
     "evalue": "name 'syn' is not defined",
     "output_type": "error",
     "traceback": [
      "\u001b[0;31m---------------------------------------------------------------------------\u001b[0m",
      "\u001b[0;31mNameError\u001b[0m                                 Traceback (most recent call last)",
      "\u001b[1;32m/Users/raufakdemir/Documents/Thesis/CTAB-GAN/Stacked_Experiment_Script_Adult.ipynb Cell 11'\u001b[0m in \u001b[0;36m<cell line: 2>\u001b[0;34m()\u001b[0m\n\u001b[1;32m      <a href='vscode-notebook-cell:/Users/raufakdemir/Documents/Thesis/CTAB-GAN/Stacked_Experiment_Script_Adult.ipynb#ch0000013?line=0'>1</a>\u001b[0m \u001b[39m# Storing generated data for future use if needed\u001b[39;00m\n\u001b[0;32m----> <a href='vscode-notebook-cell:/Users/raufakdemir/Documents/Thesis/CTAB-GAN/Stacked_Experiment_Script_Adult.ipynb#ch0000013?line=1'>2</a>\u001b[0m syn\u001b[39m.\u001b[39mto_csv(fake_file_root\u001b[39m+\u001b[39m\u001b[39m\"\u001b[39m\u001b[39m/\u001b[39m\u001b[39m\"\u001b[39m\u001b[39m+\u001b[39mdataset\u001b[39m+\u001b[39m\u001b[39m\"\u001b[39m\u001b[39m/\u001b[39m\u001b[39m\"\u001b[39m\u001b[39m+\u001b[39m dataset\u001b[39m+\u001b[39m\u001b[39m\"\u001b[39m\u001b[39m_fake_\u001b[39m\u001b[39m{exp}\u001b[39;00m\u001b[39m.csv\u001b[39m\u001b[39m\"\u001b[39m\u001b[39m.\u001b[39mformat(exp\u001b[39m=\u001b[39mi), index\u001b[39m=\u001b[39m \u001b[39mFalse\u001b[39;00m)\n",
      "\u001b[0;31mNameError\u001b[0m: name 'syn' is not defined"
     ]
    }
   ],
   "source": [
    "# Storing generated data for future use if needed\n",
    "syn.to_csv(fake_file_root+\"/\"+dataset+\"/\"+ dataset+\"_fake_{exp}.csv\".format(exp=i), index= False)"
   ]
  },
  {
   "cell_type": "code",
   "execution_count": null,
   "metadata": {},
   "outputs": [],
   "source": []
  }
 ],
 "metadata": {
  "kernelspec": {
   "display_name": "Python 3.9.12 ('.venv': venv)",
   "language": "python",
   "name": "python3"
  },
  "language_info": {
   "codemirror_mode": {
    "name": "ipython",
    "version": 3
   },
   "file_extension": ".py",
   "mimetype": "text/x-python",
   "name": "python",
   "nbconvert_exporter": "python",
   "pygments_lexer": "ipython3",
   "version": "3.9.12"
  },
  "vscode": {
   "interpreter": {
    "hash": "5e02c531e8ff5d6eed2dc8059bd5a2a72070e573768ee9b31cbf1c39084ef69f"
   }
  }
 },
 "nbformat": 4,
 "nbformat_minor": 2
}
